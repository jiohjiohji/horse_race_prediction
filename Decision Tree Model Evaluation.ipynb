{
 "cells": [
  {
   "cell_type": "code",
   "execution_count": 1,
   "id": "3686896d",
   "metadata": {},
   "outputs": [],
   "source": [
    "from sklearn.tree import DecisionTreeClassifier\n",
    "import pandas as pd\n",
    "import numpy as np"
   ]
  },
  {
   "cell_type": "code",
   "execution_count": 2,
   "id": "09d6f0fa",
   "metadata": {
    "scrolled": true
   },
   "outputs": [
    {
     "name": "stderr",
     "output_type": "stream",
     "text": [
      "/var/folders/q8/g6lgl8793kjbwnrnf6jq5bw80000gn/T/ipykernel_21657/2911637146.py:1: DtypeWarning: Columns (11,13,39) have mixed types. Specify dtype option on import or set low_memory=False.\n",
      "  df = pd.read_csv(\"./data/df_rc_hr_jk_tr_r.csv\", index_col=0)\n"
     ]
    }
   ],
   "source": [
    "df = pd.read_csv(\"./data/df_rc_hr_jk_tr_r.csv\", index_col=0)\n",
    "df = df.drop([\"trName\", 'jkName', \"jkNo_y\", 'jkNo_x', 'trNo_x', \"rcTime\",\"hrNo\", \"trNo_y\", \"ord1CntT_x\",\n",
    "             \"ord2CntT_x\", \"ord3CntT_x\", \"ord1CntT_y\", \"ord2CntT_y\", \"ord3CntT_y\", \"ord1CntT\", \"ord2CntT\",\n",
    "             \"ord3CntT\"], axis=1)\n",
    "df = df.dropna()\n",
    "df = df.loc[df.ord <= 12]\n"
   ]
  },
  {
   "cell_type": "code",
   "execution_count": 3,
   "id": "e8d017a4",
   "metadata": {},
   "outputs": [],
   "source": [
    "# Convert the text content of a rank column to a number, retaining only the numeric portion.\n",
    "import re\n",
    "values = df[\"rank\"].unique()\n",
    "for value in values:\n",
    "    strs = re.sub(r'[^0-9]', '', value)\n",
    "    df = df.replace({\"rank\": value}, strs)"
   ]
  },
  {
   "cell_type": "code",
   "execution_count": 4,
   "id": "afcb612b",
   "metadata": {},
   "outputs": [],
   "source": [
    "df = df[df[\"rank\"] != \"\"]"
   ]
  },
  {
   "cell_type": "code",
   "execution_count": 5,
   "id": "cad36b9a",
   "metadata": {
    "scrolled": true
   },
   "outputs": [
    {
     "data": {
      "text/plain": [
       "215852"
      ]
     },
     "execution_count": 5,
     "metadata": {},
     "output_type": "execute_result"
    }
   ],
   "source": [
    "len(df)"
   ]
  },
  {
   "cell_type": "code",
   "execution_count": 6,
   "id": "d46065a2",
   "metadata": {},
   "outputs": [],
   "source": [
    "values = df[\"rank\"].unique()\n",
    "for value in values:\n",
    "    num = int(value)\n",
    "    df = df.replace({\"rank\": value}, num)"
   ]
  },
  {
   "cell_type": "code",
   "execution_count": 7,
   "id": "d4d33087",
   "metadata": {},
   "outputs": [
    {
     "data": {
      "text/plain": [
       "array([4, 3, 1, 2, 5, 6])"
      ]
     },
     "execution_count": 7,
     "metadata": {},
     "output_type": "execute_result"
    }
   ],
   "source": [
    "df[\"rank\"].unique()"
   ]
  },
  {
   "cell_type": "code",
   "execution_count": 8,
   "id": "e92b6152",
   "metadata": {},
   "outputs": [],
   "source": [
    "# Separate the race records into individual data frames for each race \n",
    "# and store them in the 'races' variable.\n",
    "grouped = df.groupby([\"rcDate\", \"meet\", \"rcNo\"])\n",
    "races = []\n",
    "for (k1, k2, k3), group in grouped:\n",
    "    races.append(group)\n"
   ]
  },
  {
   "cell_type": "code",
   "execution_count": 9,
   "id": "860d3263",
   "metadata": {},
   "outputs": [
    {
     "data": {
      "text/plain": [
       "19825"
      ]
     },
     "execution_count": 9,
     "metadata": {},
     "output_type": "execute_result"
    }
   ],
   "source": [
    "races_8 = [x for x in races if len(x) >= 8]   # Only races with 8~12 horses are selected\n",
    "len(races_8)"
   ]
  },
  {
   "cell_type": "code",
   "execution_count": 10,
   "id": "ba27a23d",
   "metadata": {},
   "outputs": [],
   "source": [
    "# Divide by grade\n",
    "races_1 = [x for x in races_8 if x[\"rank\"].mean() == 1]\n",
    "races_2 = [x for x in races_8 if x[\"rank\"].mean() == 2]\n",
    "races_3 = [x for x in races_8 if x[\"rank\"].mean() == 3]\n",
    "races_4 = [x for x in races_8 if x[\"rank\"].mean() == 4]\n",
    "races_5 = [x for x in races_8 if x[\"rank\"].mean() == 5]\n",
    "races_6 = [x for x in races_8 if x[\"rank\"].mean() == 6]"
   ]
  },
  {
   "cell_type": "code",
   "execution_count": 11,
   "id": "213fc932",
   "metadata": {},
   "outputs": [
    {
     "name": "stdout",
     "output_type": "stream",
     "text": [
      "2652 1424 2397 4333 4127 4892\n"
     ]
    }
   ],
   "source": [
    "print(len(races_1), len(races_2), len(races_3), len(races_4), len(races_5), len(races_6))"
   ]
  },
  {
   "cell_type": "markdown",
   "id": "1dd2a210",
   "metadata": {},
   "source": [
    "### Grade 1 horse Model Evaluation"
   ]
  },
  {
   "cell_type": "code",
   "execution_count": 12,
   "id": "42b7626a",
   "metadata": {},
   "outputs": [],
   "source": [
    "year = 250              # races per year\n",
    "predict = []            # List of 100 game predictions after training data\n",
    "predict_p = []          # List of probabilities for the winning streak\n",
    "predict_b = []          # List of 100 game predictions before training data\n",
    "m_feature = []          # feature importance for each evaluation\n",
    "\n",
    "for i in range(5):       # Evaluation 5 times over different periods \n",
    "    end = i * 100 + 200\n",
    "    races_m = races_1[-(year+ end):-end]\n",
    "    models = []\n",
    "# Make a model corresponding to the number of races for a year and train each race\n",
    "    for j in range(len(races_m)):          \n",
    "        X = races_m[j].drop(['meet', 'rcDate','rcNo', 'ord', 'rank'], axis = 1)\n",
    "        y = races_m[j][\"ord\"]\n",
    "        model = DecisionTreeClassifier(random_state = 7)\n",
    "        model.fit(X, y)\n",
    "        models.append(model)       # Include model that will participate in voting in models\n",
    "\n",
    "    features = []\n",
    "# Record the average value of feature importance of the model \n",
    "# that participated in the voting for each evaluation\n",
    "    for j in range(len(models)):     \n",
    "        feature = models[j].feature_importances_\n",
    "        features.append(feature)\n",
    "    features = np.array(features)\n",
    "    m_feature.append(features.mean(axis = 0))    \n",
    "    \n",
    "    ## Test 100 races after training data\n",
    "    test_li = races_1[-end: -(end-100)]\n",
    "    results = []\n",
    "\n",
    "    for j in range(len(test_li)):\n",
    "        x_test = test_li[j].drop(['meet', 'rcDate','rcNo', 'ord', \"rank\"], axis = 1)\n",
    "        preds = []\n",
    "        for k in range(len(models)):\n",
    "            pred = models[k].predict(x_test)\n",
    "            preds.append(pred)\n",
    "        preds = np.array(preds)\n",
    "        ords = (preds == 1).sum(axis = 0)   # Summing the number of No.1 prediction by index\n",
    "        num = np.argmax(ords)  # Index that received the most votes is the No.1 predicted by the model\n",
    "        results.append(num)\n",
    "    r = pd.Series(results)\n",
    "    order = r.value_counts()  \n",
    "    # Based on the predicted results of 100 races, \n",
    "    # the actual number of horses ranked first, second, and third was extracted\n",
    "    win1 = order[0]\n",
    "    win2 = order[1]\n",
    "    win3 = order[2]\n",
    "    predict.append(win1)  # A result of predicting the actual No.1 horse as No.1\n",
    "    predict_p.append(win1 + win2 + win3)\n",
    "    \n",
    "    ## Training Data Tested 100 Races from 2 Years Ago\n",
    "    test_li = races_1[-(3*year+end+100):-(3*year+end)]\n",
    "    results = []\n",
    "\n",
    "    for j in range(len(test_li)):\n",
    "        x_test = test_li[j].drop(['meet', 'rcDate','rcNo', 'ord', \"rank\"], axis = 1)\n",
    "        preds = []\n",
    "        for k in range(len(models)):\n",
    "            pred = models[k].predict(x_test)\n",
    "            preds.append(pred)\n",
    "        preds = np.array(preds)\n",
    "        ords = (preds == 1).sum(axis = 0)\n",
    "        num = ords.argmax()\n",
    "        results.append(num)\n",
    "    r = pd.Series(results)\n",
    "    order = r.value_counts()\n",
    "    win1 = order[0]\n",
    "    predict_b.append(win1)\n",
    "\n",
    " "
   ]
  },
  {
   "cell_type": "code",
   "execution_count": 13,
   "id": "9a310643",
   "metadata": {},
   "outputs": [
    {
     "data": {
      "text/plain": [
       "[25, 24, 20, 23, 20]"
      ]
     },
     "execution_count": 13,
     "metadata": {},
     "output_type": "execute_result"
    }
   ],
   "source": [
    "# 100 games forecast after training data\n",
    "predict"
   ]
  },
  {
   "cell_type": "code",
   "execution_count": 14,
   "id": "6aa3b1f9",
   "metadata": {},
   "outputs": [
    {
     "data": {
      "text/plain": [
       "[25, 19, 20, 17, 21]"
      ]
     },
     "execution_count": 14,
     "metadata": {},
     "output_type": "execute_result"
    }
   ],
   "source": [
    "# Training data 100 games forecast of 2 years ago\n",
    "predict_b"
   ]
  },
  {
   "cell_type": "code",
   "execution_count": 15,
   "id": "1ec31e90",
   "metadata": {},
   "outputs": [
    {
     "data": {
      "text/plain": [
       "[52, 55, 45, 51, 51]"
      ]
     },
     "execution_count": 15,
     "metadata": {},
     "output_type": "execute_result"
    }
   ],
   "source": [
    "# odds of winning the winning streak\n",
    "predict_p"
   ]
  },
  {
   "cell_type": "code",
   "execution_count": 16,
   "id": "3d72b219",
   "metadata": {},
   "outputs": [
    {
     "data": {
      "text/plain": [
       "[Index(['ord1Ratio_y', 'ord2CntY', 'chulNo', 'rcCntT_y', 'winRateT'], dtype='object'),\n",
       " Index(['ord1Ratio_y', 'ord2CntY', 'chulNo', 'winRateT', 'ord3Ratio_x'], dtype='object'),\n",
       " Index(['ord1Ratio_y', 'ord2CntY', 'winRateT', 'chulNo', 'ord3Ratio_x'], dtype='object'),\n",
       " Index(['ord1Ratio_y', 'ord2CntY', 'winRateT', 'chulNo', 'ord3Ratio_x'], dtype='object'),\n",
       " Index(['ord1Ratio_y', 'chulNo', 'ord2CntY', 'winRateT', 'ord3Ratio_x'], dtype='object')]"
      ]
     },
     "execution_count": 16,
     "metadata": {},
     "output_type": "execute_result"
    }
   ],
   "source": [
    "# Featgure Importance\n",
    "feature = []\n",
    "\n",
    "for i in range(len(m_feature)):\n",
    "    feature.append(np.argsort(m_feature[i])[::-1][:5])\n",
    "\n",
    "importance = []    \n",
    "for col in feature:\n",
    "    importance.append(X.columns[col])\n",
    "\n",
    "importance    "
   ]
  },
  {
   "cell_type": "markdown",
   "id": "75b45e4a",
   "metadata": {},
   "source": [
    "### Grade 2 horse Model Evaluation"
   ]
  },
  {
   "cell_type": "code",
   "execution_count": 17,
   "id": "fb246899",
   "metadata": {},
   "outputs": [],
   "source": [
    "year = 150\n",
    "predict = []\n",
    "predict_p = []\n",
    "predict_b = []\n",
    "m_feature = []\n",
    "\n",
    "for i in range(5):\n",
    "    end = i * 100 + 200\n",
    "    races_m = races_2[-(year+ end):-end]\n",
    "    models = []\n",
    "\n",
    "    for j in range(len(races_m)):\n",
    "        X = races_m[j].drop(['meet', 'rcDate','rcNo', 'ord', 'rank'], axis = 1)\n",
    "        y = races_m[j][\"ord\"]\n",
    "        model = DecisionTreeClassifier(random_state = 7)\n",
    "        model.fit(X, y)\n",
    "        models.append(model)\n",
    "\n",
    "    features = []\n",
    "    for j in range(len(models)):\n",
    "        feature = models[j].feature_importances_\n",
    "        features.append(feature)\n",
    "    features = np.array(features)\n",
    "    m_feature.append(features.mean(axis = 0))    \n",
    "    \n",
    "    ## 훈련데이터 이후 100 경주 테스트\n",
    "    test_li = races_2[-end: -(end-100)]\n",
    "    results = []\n",
    "\n",
    "    for j in range(len(test_li)):\n",
    "        x_test = test_li[j].drop(['meet', 'rcDate','rcNo', 'ord', \"rank\"], axis = 1)\n",
    "        preds = []\n",
    "        for k in range(len(models)):\n",
    "            pred = models[k].predict(x_test)\n",
    "            preds.append(pred)\n",
    "        preds = np.array(preds)\n",
    "        ords = (preds == 1).sum(axis = 0)\n",
    "        num = np.argmax(ords)\n",
    "        results.append(num)\n",
    "    r = pd.Series(results)\n",
    "    order = r.value_counts()\n",
    "    win1 = order[0]\n",
    "    win2 = order[1]\n",
    "    win3 = order[2]\n",
    "    predict.append(win1)\n",
    "    predict_p.append(win1 + win2 + win3)\n",
    "    \n",
    "    ## 훈련데이터 2년전 100 경주 테스트\n",
    "    test_li = races_2[-(3*year+end+100):-(3*year+end)]\n",
    "    results = []\n",
    "\n",
    "    for j in range(len(test_li)):\n",
    "        x_test = test_li[j].drop(['meet', 'rcDate','rcNo', 'ord', \"rank\"], axis = 1)\n",
    "        preds = []\n",
    "        for k in range(len(models)):\n",
    "            pred = models[k].predict(x_test)\n",
    "            preds.append(pred)\n",
    "        preds = np.array(preds)\n",
    "        ords = (preds == 1).sum(axis = 0)\n",
    "        num = ords.argmax()\n",
    "        results.append(num)\n",
    "    r = pd.Series(results)\n",
    "    order = r.value_counts()\n",
    "    win1 = order[0]\n",
    "    predict_b.append(win1)\n"
   ]
  },
  {
   "cell_type": "code",
   "execution_count": 18,
   "id": "a6131e38",
   "metadata": {},
   "outputs": [
    {
     "data": {
      "text/plain": [
       "[16, 19, 19, 20, 21]"
      ]
     },
     "execution_count": 18,
     "metadata": {},
     "output_type": "execute_result"
    }
   ],
   "source": [
    "# 훈련데이터 이후 100경기 예측 결과\n",
    "predict"
   ]
  },
  {
   "cell_type": "code",
   "execution_count": 19,
   "id": "aa376e72",
   "metadata": {},
   "outputs": [
    {
     "data": {
      "text/plain": [
       "[22, 20, 26, 19, 20]"
      ]
     },
     "execution_count": 19,
     "metadata": {},
     "output_type": "execute_result"
    }
   ],
   "source": [
    "# 훈련데이터 2년전 100경기 예측 결과\n",
    "predict_b"
   ]
  },
  {
   "cell_type": "code",
   "execution_count": 20,
   "id": "9261425f",
   "metadata": {},
   "outputs": [
    {
     "data": {
      "text/plain": [
       "[47, 54, 56, 43, 47]"
      ]
     },
     "execution_count": 20,
     "metadata": {},
     "output_type": "execute_result"
    }
   ],
   "source": [
    "# 연승식 담첨 확률\n",
    "predict_p"
   ]
  },
  {
   "cell_type": "code",
   "execution_count": 21,
   "id": "577f6601",
   "metadata": {},
   "outputs": [
    {
     "data": {
      "text/plain": [
       "[Index(['ord1Ratio_y', 'winRateT', 'chulNo', 'rcCntT_y', 'age'], dtype='object'),\n",
       " Index(['ord1Ratio_y', 'winRateT', 'chulNo', 'ord2CntY', 'rcCntT_y'], dtype='object'),\n",
       " Index(['ord1Ratio_y', 'ord2CntY', 'winRateT', 'chulNo', 'ord3Ratio_x'], dtype='object'),\n",
       " Index(['ord1Ratio_y', 'ord2CntY', 'ord3Ratio_x', 'ord2Ratio', 'winRateT'], dtype='object'),\n",
       " Index(['ord1Ratio_y', 'ord2CntY', 'ord3Ratio_x', 'rcCntY_y', 'ord2Ratio'], dtype='object')]"
      ]
     },
     "execution_count": 21,
     "metadata": {},
     "output_type": "execute_result"
    }
   ],
   "source": [
    "# Featgure Importance\n",
    "feature = []\n",
    "\n",
    "for i in range(len(m_feature)):\n",
    "    feature.append(np.argsort(m_feature[i])[::-1][:5])\n",
    "\n",
    "importance = []    \n",
    "for col in feature:\n",
    "    importance.append(X.columns[col])\n",
    "\n",
    "importance    "
   ]
  },
  {
   "cell_type": "markdown",
   "id": "25c82197",
   "metadata": {},
   "source": [
    "### Grade 3 horse Model Evaluation"
   ]
  },
  {
   "cell_type": "code",
   "execution_count": 22,
   "id": "ba44aee8",
   "metadata": {},
   "outputs": [],
   "source": [
    "year = 250\n",
    "predict = []\n",
    "predict_p = []\n",
    "predict_b = []\n",
    "m_feature = []\n",
    "\n",
    "for i in range(5):\n",
    "    end = i * 100 + 200\n",
    "    races_m = races_3[-(year+ end):-end]\n",
    "    models = []\n",
    "\n",
    "    for j in range(len(races_m)):\n",
    "        X = races_m[j].drop(['meet', 'rcDate','rcNo', 'ord', 'rank'], axis = 1)\n",
    "        y = races_m[j][\"ord\"]\n",
    "        model = DecisionTreeClassifier(random_state = 7)\n",
    "        model.fit(X, y)\n",
    "        models.append(model)\n",
    "\n",
    "    features = []\n",
    "    for j in range(len(models)):\n",
    "        feature = models[j].feature_importances_\n",
    "        features.append(feature)\n",
    "    features = np.array(features)\n",
    "    m_feature.append(features.mean(axis = 0))    \n",
    "    \n",
    "    ## 훈련데이터 이후 100 경주 테스트\n",
    "    test_li = races_3[-end: -(end-100)]\n",
    "    results = []\n",
    "\n",
    "    for j in range(len(test_li)):\n",
    "        x_test = test_li[j].drop(['meet', 'rcDate','rcNo', 'ord', \"rank\"], axis = 1)\n",
    "        preds = []\n",
    "        for k in range(len(models)):\n",
    "            pred = models[k].predict(x_test)\n",
    "            preds.append(pred)\n",
    "        preds = np.array(preds)\n",
    "        ords = (preds == 1).sum(axis = 0)\n",
    "        num = np.argmax(ords)\n",
    "        results.append(num)\n",
    "    r = pd.Series(results)\n",
    "    order = r.value_counts()\n",
    "    win1 = order[0]\n",
    "    win2 = order[1]\n",
    "    win3 = order[2]\n",
    "    predict.append(win1)\n",
    "    predict_p.append(win1 + win2 + win3)\n",
    "    \n",
    "    ## 훈련데이터 2년전 100 경주 테스트\n",
    "    test_li = races_3[-(3*year+end+100):-(3*year+end)]\n",
    "    results = []\n",
    "\n",
    "    for j in range(len(test_li)):\n",
    "        x_test = test_li[j].drop(['meet', 'rcDate','rcNo', 'ord', \"rank\"], axis = 1)\n",
    "        preds = []\n",
    "        for k in range(len(models)):\n",
    "            pred = models[k].predict(x_test)\n",
    "            preds.append(pred)\n",
    "        preds = np.array(preds)\n",
    "        ords = (preds == 1).sum(axis = 0)\n",
    "        num = ords.argmax()\n",
    "        results.append(num)\n",
    "    r = pd.Series(results)\n",
    "    order = r.value_counts()\n",
    "    win1 = order[0]\n",
    "    predict_b.append(win1)\n"
   ]
  },
  {
   "cell_type": "code",
   "execution_count": 23,
   "id": "fdd4e567",
   "metadata": {},
   "outputs": [
    {
     "data": {
      "text/plain": [
       "[32, 19, 22, 25, 25]"
      ]
     },
     "execution_count": 23,
     "metadata": {},
     "output_type": "execute_result"
    }
   ],
   "source": [
    "# 훈련데이터 이후 100경기 예측 결과\n",
    "predict"
   ]
  },
  {
   "cell_type": "code",
   "execution_count": 24,
   "id": "eb7baa8c",
   "metadata": {},
   "outputs": [
    {
     "data": {
      "text/plain": [
       "[20, 28, 27, 26, 24]"
      ]
     },
     "execution_count": 24,
     "metadata": {},
     "output_type": "execute_result"
    }
   ],
   "source": [
    "# 훈련데이터 2년전 100경기 예측 결과\n",
    "predict_b"
   ]
  },
  {
   "cell_type": "code",
   "execution_count": 25,
   "id": "f9a2265b",
   "metadata": {},
   "outputs": [
    {
     "data": {
      "text/plain": [
       "[64, 40, 50, 56, 56]"
      ]
     },
     "execution_count": 25,
     "metadata": {},
     "output_type": "execute_result"
    }
   ],
   "source": [
    "# 연승식 담첨 확률\n",
    "predict_p"
   ]
  },
  {
   "cell_type": "code",
   "execution_count": 26,
   "id": "c7edb3ec",
   "metadata": {},
   "outputs": [
    {
     "data": {
      "text/plain": [
       "[Index(['ord1Ratio_y', 'chulNo', 'winRateT', 'age', 'ord3Ratio_y'], dtype='object'),\n",
       " Index(['ord1Ratio_y', 'chulNo', 'winRateT', 'age', 'ord2CntY'], dtype='object'),\n",
       " Index(['ord1Ratio_y', 'chulNo', 'winRateT', 'age', 'ord2CntY'], dtype='object'),\n",
       " Index(['ord1Ratio_y', 'chulNo', 'winRateT', 'ord2CntY', 'age'], dtype='object'),\n",
       " Index(['ord1Ratio_y', 'ord2CntY', 'chulNo', 'winRateT', 'ord3Ratio_x'], dtype='object')]"
      ]
     },
     "execution_count": 26,
     "metadata": {},
     "output_type": "execute_result"
    }
   ],
   "source": [
    "# Featgure Importance\n",
    "feature = []\n",
    "\n",
    "for i in range(len(m_feature)):\n",
    "    feature.append(np.argsort(m_feature[i])[::-1][:5])\n",
    "\n",
    "importance = []    \n",
    "for col in feature:\n",
    "    importance.append(X.columns[col])\n",
    "\n",
    "importance  "
   ]
  },
  {
   "cell_type": "code",
   "execution_count": null,
   "id": "0034239c",
   "metadata": {},
   "outputs": [],
   "source": []
  },
  {
   "cell_type": "markdown",
   "id": "3ca9988e",
   "metadata": {},
   "source": [
    "### Grade 4 horse Model Evaluation"
   ]
  },
  {
   "cell_type": "code",
   "execution_count": 27,
   "id": "f4365795",
   "metadata": {},
   "outputs": [],
   "source": [
    "year = 450\n",
    "predict = []\n",
    "predict_p = []\n",
    "predict_b = []\n",
    "m_feature = []\n",
    "\n",
    "for i in range(5):\n",
    "    end = i * 100 + 200\n",
    "    races_m = races_4[-(year+ end):-end]\n",
    "    models = []\n",
    "\n",
    "    for j in range(len(races_m)):\n",
    "        X = races_m[j].drop(['meet', 'rcDate','rcNo', 'ord', 'rank'], axis = 1)\n",
    "        y = races_m[j][\"ord\"]\n",
    "        model = DecisionTreeClassifier(random_state = 7)\n",
    "        model.fit(X, y)\n",
    "        models.append(model)\n",
    "\n",
    "    features = []\n",
    "    for j in range(len(models)):\n",
    "        feature = models[j].feature_importances_\n",
    "        features.append(feature)\n",
    "    features = np.array(features)\n",
    "    m_feature.append(features.mean(axis = 0))    \n",
    "    \n",
    "    ## 훈련데이터 이후 100 경주 테스트\n",
    "    test_li = races_4[-end: -(end-100)]\n",
    "    results = []\n",
    "\n",
    "    for j in range(len(test_li)):\n",
    "        x_test = test_li[j].drop(['meet', 'rcDate','rcNo', 'ord', \"rank\"], axis = 1)\n",
    "        preds = []\n",
    "        for k in range(len(models)):\n",
    "            pred = models[k].predict(x_test)\n",
    "            preds.append(pred)\n",
    "        preds = np.array(preds)\n",
    "        ords = (preds == 1).sum(axis = 0)\n",
    "        num = np.argmax(ords)\n",
    "        results.append(num)\n",
    "    r = pd.Series(results)\n",
    "    order = r.value_counts()\n",
    "    win1 = order[0]\n",
    "    win2 = order[1]\n",
    "    win3 = order[2]\n",
    "    predict.append(win1)\n",
    "    predict_p.append(win1 + win2 + win3)\n",
    "    \n",
    "    ## 훈련데이터 2년전 100 경주 테스트\n",
    "    test_li = races_4[-(3*year+end+100):-(3*year+end)]\n",
    "    results = []\n",
    "\n",
    "    for j in range(len(test_li)):\n",
    "        x_test = test_li[j].drop(['meet', 'rcDate','rcNo', 'ord', \"rank\"], axis = 1)\n",
    "        preds = []\n",
    "        for k in range(len(models)):\n",
    "            pred = models[k].predict(x_test)\n",
    "            preds.append(pred)\n",
    "        preds = np.array(preds)\n",
    "        ords = (preds == 1).sum(axis = 0)\n",
    "        num = ords.argmax()\n",
    "        results.append(num)\n",
    "    r = pd.Series(results)\n",
    "    order = r.value_counts()\n",
    "    win1 = order[0]\n",
    "    predict_b.append(win1)\n"
   ]
  },
  {
   "cell_type": "code",
   "execution_count": 28,
   "id": "4dbb4c21",
   "metadata": {},
   "outputs": [
    {
     "data": {
      "text/plain": [
       "[24, 27, 26, 24, 17]"
      ]
     },
     "execution_count": 28,
     "metadata": {},
     "output_type": "execute_result"
    }
   ],
   "source": [
    "# 훈련데이터 이후 100경기 예측 결과\n",
    "predict"
   ]
  },
  {
   "cell_type": "code",
   "execution_count": 29,
   "id": "b53dfa09",
   "metadata": {},
   "outputs": [
    {
     "data": {
      "text/plain": [
       "[18, 23, 21, 20, 19]"
      ]
     },
     "execution_count": 29,
     "metadata": {},
     "output_type": "execute_result"
    }
   ],
   "source": [
    "# 훈련데이터 2년전 100경기 예측 결과\n",
    "predict_b"
   ]
  },
  {
   "cell_type": "code",
   "execution_count": 30,
   "id": "33affc78",
   "metadata": {},
   "outputs": [
    {
     "data": {
      "text/plain": [
       "[58, 60, 59, 49, 53]"
      ]
     },
     "execution_count": 30,
     "metadata": {},
     "output_type": "execute_result"
    }
   ],
   "source": [
    "# 연승식 담첨 확률\n",
    "predict_p"
   ]
  },
  {
   "cell_type": "code",
   "execution_count": 31,
   "id": "652c9cf3",
   "metadata": {},
   "outputs": [
    {
     "data": {
      "text/plain": [
       "[Index(['ord1Ratio_y', 'winRateT', 'chulNo', 'age', 'ord1CntY_x'], dtype='object'),\n",
       " Index(['ord1Ratio_y', 'chulNo', 'winRateT', 'age', 'ord3Ratio_y'], dtype='object'),\n",
       " Index(['ord1Ratio_y', 'chulNo', 'winRateT', 'age', 'ord3Ratio_y'], dtype='object'),\n",
       " Index(['ord1Ratio_y', 'chulNo', 'winRateT', 'age', 'ord3Ratio_y'], dtype='object'),\n",
       " Index(['ord1Ratio_y', 'winRateT', 'chulNo', 'age', 'ord3Ratio_y'], dtype='object')]"
      ]
     },
     "execution_count": 31,
     "metadata": {},
     "output_type": "execute_result"
    }
   ],
   "source": [
    "# Featgure Importance\n",
    "feature = []\n",
    "\n",
    "for i in range(len(m_feature)):\n",
    "    feature.append(np.argsort(m_feature[i])[::-1][:5])\n",
    "\n",
    "importance = []    \n",
    "for col in feature:\n",
    "    importance.append(X.columns[col])\n",
    "\n",
    "importance  "
   ]
  },
  {
   "cell_type": "code",
   "execution_count": null,
   "id": "08ab5852",
   "metadata": {},
   "outputs": [],
   "source": []
  },
  {
   "cell_type": "markdown",
   "id": "da5238f4",
   "metadata": {},
   "source": [
    "### Grade 5 horse Model Evaluation"
   ]
  },
  {
   "cell_type": "code",
   "execution_count": 32,
   "id": "9b0ed001",
   "metadata": {},
   "outputs": [],
   "source": [
    "year = 400\n",
    "predict = []\n",
    "predict_p = []\n",
    "predict_b = []\n",
    "m_feature = []\n",
    "\n",
    "for i in range(5):\n",
    "    end = i * 100 + 200\n",
    "    races_m = races_5[-(year+ end):-end]\n",
    "    models = []\n",
    "\n",
    "    for j in range(len(races_m)):\n",
    "        X = races_m[j].drop(['meet', 'rcDate','rcNo', 'ord', 'rank'], axis = 1)\n",
    "        y = races_m[j][\"ord\"]\n",
    "        model = DecisionTreeClassifier(random_state = 7)\n",
    "        model.fit(X, y)\n",
    "        models.append(model)\n",
    "\n",
    "    features = []\n",
    "    for j in range(len(models)):\n",
    "        feature = models[j].feature_importances_\n",
    "        features.append(feature)\n",
    "    features = np.array(features)\n",
    "    m_feature.append(features.mean(axis = 0))    \n",
    "    \n",
    "    ## 훈련데이터 이후 100 경주 테스트\n",
    "    test_li = races_5[-end: -(end-100)]\n",
    "    results = []\n",
    "\n",
    "    for j in range(len(test_li)):\n",
    "        x_test = test_li[j].drop(['meet', 'rcDate','rcNo', 'ord', \"rank\"], axis = 1)\n",
    "        preds = []\n",
    "        for k in range(len(models)):\n",
    "            pred = models[k].predict(x_test)\n",
    "            preds.append(pred)\n",
    "        preds = np.array(preds)\n",
    "        ords = (preds == 1).sum(axis = 0)\n",
    "        num = np.argmax(ords)\n",
    "        results.append(num)\n",
    "    r = pd.Series(results)\n",
    "    order = r.value_counts()\n",
    "    win1 = order[0]\n",
    "    win2 = order[1]\n",
    "    win3 = order[2]\n",
    "    predict.append(win1)\n",
    "    predict_p.append(win1 + win2 + win3)\n",
    "    \n",
    "    ## 훈련데이터 2년전 100 경주 테스트\n",
    "    test_li = races_5[-(3*year+end+100):-(3*year+end)]\n",
    "    results = []\n",
    "\n",
    "    for j in range(len(test_li)):\n",
    "        x_test = test_li[j].drop(['meet', 'rcDate','rcNo', 'ord', \"rank\"], axis = 1)\n",
    "        preds = []\n",
    "        for k in range(len(models)):\n",
    "            pred = models[k].predict(x_test)\n",
    "            preds.append(pred)\n",
    "        preds = np.array(preds)\n",
    "        ords = (preds == 1).sum(axis = 0)\n",
    "        num = ords.argmax()\n",
    "        results.append(num)\n",
    "    r = pd.Series(results)\n",
    "    order = r.value_counts()\n",
    "    win1 = order[0]\n",
    "    predict_b.append(win1)\n"
   ]
  },
  {
   "cell_type": "code",
   "execution_count": 33,
   "id": "5444eb93",
   "metadata": {},
   "outputs": [
    {
     "data": {
      "text/plain": [
       "[30, 34, 28, 32, 22]"
      ]
     },
     "execution_count": 33,
     "metadata": {},
     "output_type": "execute_result"
    }
   ],
   "source": [
    "# 훈련데이터 이후 100경기 예측 결과\n",
    "predict"
   ]
  },
  {
   "cell_type": "code",
   "execution_count": 34,
   "id": "cabc354f",
   "metadata": {},
   "outputs": [
    {
     "data": {
      "text/plain": [
       "[24, 30, 26, 31, 22]"
      ]
     },
     "execution_count": 34,
     "metadata": {},
     "output_type": "execute_result"
    }
   ],
   "source": [
    "# 훈련데이터 2년전 100경기 예측 결과\n",
    "predict_b"
   ]
  },
  {
   "cell_type": "code",
   "execution_count": 35,
   "id": "d29566ab",
   "metadata": {},
   "outputs": [
    {
     "data": {
      "text/plain": [
       "[55, 56, 51, 56, 42]"
      ]
     },
     "execution_count": 35,
     "metadata": {},
     "output_type": "execute_result"
    }
   ],
   "source": [
    "# 연승식 담첨 확률\n",
    "predict_p"
   ]
  },
  {
   "cell_type": "code",
   "execution_count": 36,
   "id": "4e371a3e",
   "metadata": {},
   "outputs": [
    {
     "data": {
      "text/plain": [
       "[Index(['ord1Ratio_y', 'winRateT', 'chulNo', 'age', 'ord1CntY_x'], dtype='object'),\n",
       " Index(['ord1Ratio_y', 'winRateT', 'chulNo', 'age', 'ord1CntY_x'], dtype='object'),\n",
       " Index(['ord1Ratio_y', 'winRateT', 'chulNo', 'age', 'ord1CntY_x'], dtype='object'),\n",
       " Index(['ord1Ratio_y', 'winRateT', 'chulNo', 'age', 'ord1CntY_x'], dtype='object'),\n",
       " Index(['ord1Ratio_y', 'winRateT', 'chulNo', 'age', 'ord1CntY_x'], dtype='object')]"
      ]
     },
     "execution_count": 36,
     "metadata": {},
     "output_type": "execute_result"
    }
   ],
   "source": [
    "# Featgure Importance\n",
    "feature = []\n",
    "\n",
    "for i in range(len(m_feature)):\n",
    "    feature.append(np.argsort(m_feature[i])[::-1][:5])\n",
    "\n",
    "importance = []    \n",
    "for col in feature:\n",
    "    importance.append(X.columns[col])\n",
    "\n",
    "importance  "
   ]
  },
  {
   "cell_type": "markdown",
   "id": "d0485693",
   "metadata": {},
   "source": [
    "### Grade 6 horse Model Evaluation"
   ]
  },
  {
   "cell_type": "code",
   "execution_count": 37,
   "id": "3f959c24",
   "metadata": {},
   "outputs": [],
   "source": [
    "year = 500\n",
    "predict = []\n",
    "predict_p = []\n",
    "predict_b = []\n",
    "m_feature = []\n",
    "\n",
    "for i in range(5):\n",
    "    end = i * 100 + 200\n",
    "    races_m = races_6[-(year+ end):-end]\n",
    "    models = []\n",
    "\n",
    "    for j in range(len(races_m)):\n",
    "        X = races_m[j].drop(['meet', 'rcDate','rcNo', 'ord', 'rank'], axis = 1)\n",
    "        y = races_m[j][\"ord\"]\n",
    "        model = DecisionTreeClassifier(random_state = 7)\n",
    "        model.fit(X, y)\n",
    "        models.append(model)\n",
    "\n",
    "    features = []\n",
    "    for j in range(len(models)):\n",
    "        feature = models[j].feature_importances_\n",
    "        features.append(feature)\n",
    "    features = np.array(features)\n",
    "    m_feature.append(features.mean(axis = 0))    \n",
    "    \n",
    "    ## 훈련데이터 이후 100 경주 테스트\n",
    "    test_li = races_6[-end: -(end-100)]\n",
    "    results = []\n",
    "\n",
    "    for j in range(len(test_li)):\n",
    "        x_test = test_li[j].drop(['meet', 'rcDate','rcNo', 'ord', \"rank\"], axis = 1)\n",
    "        preds = []\n",
    "        for k in range(len(models)):\n",
    "            pred = models[k].predict(x_test)\n",
    "            preds.append(pred)\n",
    "        preds = np.array(preds)\n",
    "        ords = (preds == 1).sum(axis = 0)\n",
    "        num = np.argmax(ords)\n",
    "        results.append(num)\n",
    "    r = pd.Series(results)\n",
    "    order = r.value_counts()\n",
    "    win1 = order[0]\n",
    "    win2 = order[1]\n",
    "    win3 = order[2]\n",
    "    predict.append(win1)\n",
    "    predict_p.append(win1 + win2 + win3)\n",
    "    \n",
    "    ## 훈련데이터 2년전 100 경주 테스트\n",
    "    test_li = races_6[-(3*year+end+100):-(3*year+end)]\n",
    "    results = []\n",
    "\n",
    "    for j in range(len(test_li)):\n",
    "        x_test = test_li[j].drop(['meet', 'rcDate','rcNo', 'ord', \"rank\"], axis = 1)\n",
    "        preds = []\n",
    "        for k in range(len(models)):\n",
    "            pred = models[k].predict(x_test)\n",
    "            preds.append(pred)\n",
    "        preds = np.array(preds)\n",
    "        ords = (preds == 1).sum(axis = 0)\n",
    "        num = ords.argmax()\n",
    "        results.append(num)\n",
    "    r = pd.Series(results)\n",
    "    order = r.value_counts()\n",
    "    win1 = order[0]\n",
    "    predict_b.append(win1)\n"
   ]
  },
  {
   "cell_type": "code",
   "execution_count": 38,
   "id": "e38ce40b",
   "metadata": {},
   "outputs": [
    {
     "data": {
      "text/plain": [
       "[58, 47, 51, 34, 46]"
      ]
     },
     "execution_count": 38,
     "metadata": {},
     "output_type": "execute_result"
    }
   ],
   "source": [
    "# 훈련데이터 이후 100경기 예측 결과\n",
    "predict"
   ]
  },
  {
   "cell_type": "code",
   "execution_count": 39,
   "id": "64ef4df9",
   "metadata": {},
   "outputs": [
    {
     "data": {
      "text/plain": [
       "[24, 17, 14, 27, 25]"
      ]
     },
     "execution_count": 39,
     "metadata": {},
     "output_type": "execute_result"
    }
   ],
   "source": [
    "# 훈련데이터 2년전 100경기 예측 결과\n",
    "predict_b"
   ]
  },
  {
   "cell_type": "code",
   "execution_count": 40,
   "id": "888305e1",
   "metadata": {},
   "outputs": [
    {
     "data": {
      "text/plain": [
       "[74, 73, 68, 64, 71]"
      ]
     },
     "execution_count": 40,
     "metadata": {},
     "output_type": "execute_result"
    }
   ],
   "source": [
    "# 연승식 담첨 확률\n",
    "predict_p"
   ]
  },
  {
   "cell_type": "code",
   "execution_count": 41,
   "id": "928f92c4",
   "metadata": {},
   "outputs": [
    {
     "data": {
      "text/plain": [
       "[Index(['ord1Ratio_y', 'chulNo', 'winRateT', 'ord1CntY_x', 'ord3Ratio_y'], dtype='object'),\n",
       " Index(['ord1Ratio_y', 'chulNo', 'winRateT', 'ord1CntY_x', 'ord3Ratio_y'], dtype='object'),\n",
       " Index(['ord1Ratio_y', 'chulNo', 'winRateT', 'ord3Ratio_y', 'ord1CntY_x'], dtype='object'),\n",
       " Index(['ord1Ratio_y', 'chulNo', 'winRateT', 'ord3Ratio_y', 'ord1CntY_x'], dtype='object'),\n",
       " Index(['ord1Ratio_y', 'chulNo', 'winRateT', 'age', 'ord1CntY_x'], dtype='object')]"
      ]
     },
     "execution_count": 41,
     "metadata": {},
     "output_type": "execute_result"
    }
   ],
   "source": [
    "# Featgure Importance\n",
    "feature = []\n",
    "\n",
    "for i in range(len(m_feature)):\n",
    "    feature.append(np.argsort(m_feature[i])[::-1][:5])\n",
    "\n",
    "importance = []    \n",
    "for col in feature:\n",
    "    importance.append(X.columns[col])\n",
    "\n",
    "importance  "
   ]
  },
  {
   "cell_type": "code",
   "execution_count": null,
   "id": "6dc3921e",
   "metadata": {},
   "outputs": [],
   "source": []
  },
  {
   "cell_type": "code",
   "execution_count": null,
   "id": "8a74a4aa",
   "metadata": {},
   "outputs": [],
   "source": []
  },
  {
   "cell_type": "code",
   "execution_count": null,
   "id": "5bdfc0bb",
   "metadata": {},
   "outputs": [],
   "source": []
  }
 ],
 "metadata": {
  "kernelspec": {
   "display_name": "Python 3 (ipykernel)",
   "language": "python",
   "name": "python3"
  },
  "language_info": {
   "codemirror_mode": {
    "name": "ipython",
    "version": 3
   },
   "file_extension": ".py",
   "mimetype": "text/x-python",
   "name": "python",
   "nbconvert_exporter": "python",
   "pygments_lexer": "ipython3",
   "version": "3.11.4"
  }
 },
 "nbformat": 4,
 "nbformat_minor": 5
}
